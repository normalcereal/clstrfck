{
  "nbformat": 4,
  "nbformat_minor": 0,
  "metadata": {
    "colab": {
      "name": "clstrfck",
      "provenance": [],
      "private_outputs": true,
      "collapsed_sections": [],
      "authorship_tag": "ABX9TyMupKiQHcNE7So2+jsCBsiM",
      "include_colab_link": true
    },
    "kernelspec": {
      "name": "python3",
      "display_name": "Python 3"
    }
  },
  "cells": [
    {
      "cell_type": "markdown",
      "metadata": {
        "id": "view-in-github",
        "colab_type": "text"
      },
      "source": [
        "<a href=\"https://colab.research.google.com/github/normalcereal/clstrfck/blob/master/clstrfck.ipynb\" target=\"_parent\"><img src=\"https://colab.research.google.com/assets/colab-badge.svg\" alt=\"Open In Colab\"/></a>"
      ]
    },
    {
      "cell_type": "code",
      "metadata": {
        "id": "Mm0W6atuB-5q"
      },
      "source": [
        "#consider using grep\n",
        "\n",
        "\n",
        "def indx_englsh_wrds( text ):\n",
        "    return '''json or similar with each identified english word.'''\n",
        "\n",
        "def is_englsh_word( word ):\n",
        "    return '''bool word is english'''\n",
        "\n",
        "def rmve_lone_vowels( text ):\n",
        "    #read file line by line\n",
        "    #for each line in lines\n",
        "        # split by \n",
        "    \n",
        "    letters = split_word_into_letters( word )\n",
        "    head,tail = letters.first, letters.last\n",
        "    vwl_seq_cnt = 0\n",
        "    prev_vowel = ''\n",
        "    for letter in letters:\n",
        "        if letter in vowels and not head and not tail and not is_vowel( letter.prev ) and not is_vowel ( letter.next ):\n",
        "            word.remove(letter)\n",
        "    return \"text w vowels remkced when not outide and with consonants to left and right\"\n",
        "\n",
        "# make it a module  "
      ],
      "execution_count": null,
      "outputs": []
    },
    {
      "cell_type": "code",
      "metadata": {
        "id": "GLYryAdNJXmj"
      },
      "source": [
        ""
      ],
      "execution_count": null,
      "outputs": []
    },
    {
      "cell_type": "code",
      "metadata": {
        "id": "soX5P0ltDIS2"
      },
      "source": [
        "text = \"fuck my poops that are in my butts\"\n",
        "words = text.split(\" \")\n",
        "\n",
        "words_len = len(splitted)\n",
        "\n",
        "for i in range(words_len):\n",
        "    print(words[i])\n",
        "    word = words[i]\n",
        "    letters = list(word)\n",
        "    print(letters)\n",
        "\n",
        "    vowels = \"aeiouAEIOU\"\n",
        "\n",
        "    letters_len = len(letters)\n",
        "    \n",
        "    for h in range(letters_len):\n",
        "\n",
        "        prev = letters[ max( 0, h - 1 ) ]\n",
        "        next = letters[ max( 0, letters_h + 1 ) ]\n",
        "\n",
        "\n",
        "\n",
        "        if letter in vowels and not head and not tail:\n",
        "            print(letter)\n",
        "\n",
        "butts = \"poops\"\n",
        "letter_list = list(butts)\n",
        "print(letter_list)"
      ],
      "execution_count": null,
      "outputs": []
    },
    {
      "cell_type": "code",
      "metadata": {
        "id": "Hrb8fgenDQ3V"
      },
      "source": [
        ""
      ],
      "execution_count": null,
      "outputs": []
    }
  ]
}